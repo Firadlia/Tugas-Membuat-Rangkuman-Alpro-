{
 "cells": [
  {
   "cell_type": "markdown",
   "id": "9d244ddf-5a92-493b-930e-a84b035b0683",
   "metadata": {},
   "source": [
    "# NAMA : FIRA ADELIA SEPTA\n",
    "# NIM : 103102430002\n",
    "# KELAS : DS-04-02"
   ]
  },
  {
   "cell_type": "markdown",
   "id": "e4da4763-32e2-4378-b1cc-655718b9ba36",
   "metadata": {},
   "source": [
    "### Pengertian Python"
   ]
  },
  {
   "cell_type": "markdown",
   "id": "b0828ea4-d38a-47c9-bf78-dfc032c474bc",
   "metadata": {
    "jp-MarkdownHeadingCollapsed": true
   },
   "source": [
    "Python adalah bahasa pemrograman tingkat tinggi yang serbaguna, mudah dipelajari, dan populer. Beberapa fungsi utama Python adalah untuk pengembangan web, analisis data, kecerdasan buatan, pengembangan permainan, pengembangan aplikasi desktop, dan pemrograman jaringan. Python diciptakan oleh programmer asal Belanda, Guido van Rossum, pada tahun 1991."
   ]
  },
  {
   "cell_type": "code",
   "execution_count": 14,
   "id": "fc26baa9-3076-415b-a917-3015a5535333",
   "metadata": {},
   "outputs": [
    {
     "name": "stdout",
     "output_type": "stream",
     "text": [
      "Hello, world!\n",
      "Hello, world!\n"
     ]
    }
   ],
   "source": [
    "print(\"Hello, world!\")\n",
    "print(f\"Hello, world!\")"
   ]
  },
  {
   "cell_type": "markdown",
   "id": "bce1f279-e226-40dd-a57e-a99b2cc07fb2",
   "metadata": {},
   "source": [
    "### Cara Penulisan Variabel"
   ]
  },
  {
   "cell_type": "code",
   "execution_count": 31,
   "id": "5135cd01-1693-41da-b431-edd6cade7af2",
   "metadata": {},
   "outputs": [
    {
     "name": "stdout",
     "output_type": "stream",
     "text": [
      "Fira\n",
      "103102430002\n",
      "mahasiswa\n",
      "Fira dengan NIM 103102430002 adalah seorang mahasiswa\n"
     ]
    }
   ],
   "source": [
    "# contoh penulisan variabel\n",
    "nama_panggilan = \"Fira\"\n",
    "NIM = 103102430002\n",
    "keterangan = \"mahasiswa\"\n",
    "\n",
    "# Menampilkan nilai variabel\n",
    "print(nama_panggilan)\n",
    "print(NIM)\n",
    "print(keterangan)\n",
    "\n",
    "# Multi-statement variabel (memungkinkan kita untuk mendeklarasikan beberapa variabel dalam satu baris)\n",
    "print(nama_panggilan, \"dengan NIM\", NIM, \"adalah seorang\" , keterangan)"
   ]
  },
  {
   "cell_type": "markdown",
   "id": "b317bebc-e70c-4633-8f5f-7c5c4e6fa2de",
   "metadata": {},
   "source": [
    "### 1. Tipe Data Python"
   ]
  },
  {
   "cell_type": "code",
   "execution_count": 6,
   "id": "5b10aa09-f4d5-47ba-9b87-76ecfb03eee2",
   "metadata": {},
   "outputs": [
    {
     "name": "stdout",
     "output_type": "stream",
     "text": [
      "9 <class 'int'>\n",
      "(20, 5) <class 'tuple'>\n",
      "Aku cantik dan keren! <class 'str'>\n",
      "True <class 'bool'>\n"
     ]
    }
   ],
   "source": [
    "# Contoh tipe data\n",
    "bilangan_bulat = 9                  # Integer /N\n",
    "bilangan_desimal = 20,5             # Float\n",
    "teks = \"Aku cantik dan keren!\"      # String\n",
    "logika = True                       # Boolean\n",
    "\n",
    "# Menampilkan isi atau nilai dan jenis data variabel\n",
    "print(bilangan_bulat, type(bilangan_bulat))\n",
    "print(bilangan_desimal, type(bilangan_desimal))\n",
    "print(teks, type(teks))\n",
    "print(logika, type(logika))"
   ]
  },
  {
   "cell_type": "markdown",
   "id": "849d3b0c-39ee-4d42-b96f-4883c1d5b851",
   "metadata": {},
   "source": [
    "#### Input dari Pengguna"
   ]
  },
  {
   "cell_type": "markdown",
   "id": "eb26b6f4-e3e7-475e-b431-239221768e45",
   "metadata": {},
   "source": [
    "Input dari pengguna adalah proses di mana program menerima data yang dimasukkan oleh pengguna selama eksekusi. Python menyediakan fungsi bawaan input() untuk menangkap input tersebut dalam bentuk string. Berikut adalah contohnya:"
   ]
  },
  {
   "cell_type": "code",
   "execution_count": 41,
   "id": "04011e4c-9675-4a5b-b635-186747e234dd",
   "metadata": {},
   "outputs": [
    {
     "name": "stdin",
     "output_type": "stream",
     "text": [
      "Masukkan usia anda : 19\n"
     ]
    },
    {
     "name": "stdout",
     "output_type": "stream",
     "text": [
      "Usia anda adalah : 19\n"
     ]
    }
   ],
   "source": [
    "usia = int(input(\"Masukkan usia anda :\"))\n",
    "print(\"Usia anda adalah :\", usia)"
   ]
  },
  {
   "cell_type": "markdown",
   "id": "5ef01d4a-c96e-4d8c-8f2e-e25d0aefd650",
   "metadata": {},
   "source": [
    "### 2. Operator Dasar"
   ]
  },
  {
   "cell_type": "markdown",
   "id": "7679e692-543e-4251-987a-cb247edfe369",
   "metadata": {},
   "source": [
    "Simbol-simbol yang digunakan untuk melakukan operasi tertentu. Jenis-jenis operator :"
   ]
  },
  {
   "cell_type": "markdown",
   "id": "075d6795-f74a-47b3-8cb9-f5f889db1227",
   "metadata": {},
   "source": [
    "#### 1. Operator Aritmatika"
   ]
  },
  {
   "cell_type": "markdown",
   "id": "5889d9c6-a500-402e-82e2-2b9ca923f188",
   "metadata": {},
   "source": [
    "- Penjumlahan (+), ex: 1 + 3 = 4\n",
    "- Pengurangan (-), ex: 4 - 1 = 3\n",
    "- Perkalian (*), ex: 2 * 4 = 8\n",
    "- Pembagian (/), ex: 10 / 5 = 2\n",
    "- Sisa Bagi (%), ex: 11 % 2 = 1\n",
    "- **Pangkat ()**, ex: 8 ** 2 = 64\n",
    "- Pembagian Floor (//), ex: 10 // 3 #= 3"
   ]
  },
  {
   "cell_type": "markdown",
   "id": "6d4f53dd-7756-4956-9c5a-040b76dd638d",
   "metadata": {},
   "source": [
    "#### 2. Operator Pengabdian/Relasi"
   ]
  },
  {
   "cell_type": "markdown",
   "id": "b29d4b4c-651d-4f70-aa8e-1ecfdb40a06b",
   "metadata": {},
   "source": [
    "- Sama dengan (==), ex: 1 == 1\n",
    "- Tidak sama dengan (!=), ex: 2 != 2\n",
    "- Tidak sama dengan (<>), ex: 2 <> 2\n",
    "- Lebih besar dari (>), ex: 5 > 3\n",
    "- Lebih kecil dari (<), ex: 3 < 5\n",
    "- Lebih besar atau sama dengan (>=), ex: 5 >= 3\n",
    "- Lebih kecil atau sama dengan (<=)#, ex: 3 <= 5"
   ]
  },
  {
   "cell_type": "markdown",
   "id": "143de57e-5d7e-48d6-9239-f231b5a71c23",
   "metadata": {},
   "source": [
    "#### 3. Operator Penugasan"
   ]
  },
  {
   "cell_type": "markdown",
   "id": "52b87eb4-5d6a-45e8-9495-1cd759d762f3",
   "metadata": {},
   "source": [
    "- Sama dengan (=), ex: a = 1\n",
    "- Tambah sama dengan (+=), ex: a += 2\n",
    "- Kurang sama dengan (-=), ex: a -= 2\n",
    "- Kali sama dengan (*=), ex: a *= 2\n",
    "- Bagi sama dengan (/=), ex: a /= 4\n",
    "- Sisa bagi sama dengan (%=), ex: a %= 3\n",
    "- **Pangkat sama dengan (=)**, ex: a **= 3\n",
    "- Pembagian bulat sama dengan #(//=), ex: a //= 3"
   ]
  },
  {
   "cell_type": "markdown",
   "id": "f3ddcbd6-488a-48b0-85d0-1a1f2cfce03f",
   "metadata": {},
   "source": [
    "#### 4. Operator Logika"
   ]
  },
  {
   "cell_type": "markdown",
   "id": "b78bb1b3-0403-4abe-b8c4-3f8929e9c6fc",
   "metadata": {},
   "source": [
    "- and -> Mengembalikan True jika dua statement sama-sama benar, ex: True and True\n",
    "- or -> Mengembalikan True jika salah satu statement bernilai benar, ex: 2 > 5 or 1 < 3\n",
    "- not -> Menegaskan hasil. True menjadi False dan sebaliknya, ex: not(1 > 5) 3 = 3."
   ]
  },
  {
   "cell_type": "code",
   "execution_count": 77,
   "id": "c4778f97-f210-4b77-bcb9-15acfddb5769",
   "metadata": {},
   "outputs": [
    {
     "name": "stdout",
     "output_type": "stream",
     "text": [
      "10 + 3 = 13\n",
      "10 - 3 = 7\n",
      "10 * 3 = 30\n",
      "10 / 3 = 3.3333333333333335\n",
      "10 % 3 = 1\n",
      "10 ** 3 = 1000\n",
      "10 // 3 = 3\n"
     ]
    }
   ],
   "source": [
    "## Contoh Aritmatika\n",
    "a, b = 10, 3\n",
    "\n",
    "print(a, '+', b, '=', a + b)\n",
    "print(a, '-', b, '=', a - b)\n",
    "print(a, '*', b, '=', a * b)\n",
    "print(a, '/', b, '=', a / b)\n",
    "print(a, '%', b, '=', a % b)\n",
    "print(a, '**', b, '=', a ** b)\n",
    "print(a, '//', b, '=', a // b)  # Perbaikan di sini"
   ]
  },
  {
   "cell_type": "code",
   "execution_count": 83,
   "id": "d10c575f-98b9-4eaf-81c0-77c87d126005",
   "metadata": {},
   "outputs": [
    {
     "name": "stdout",
     "output_type": "stream",
     "text": [
      "5 > 10 = False\n",
      "5 < 10 = True\n",
      "5 == 10 = False\n",
      "5 != 10 = True\n",
      "5 >= 10 = False\n",
      "5 <= 10 = True\n"
     ]
    }
   ],
   "source": [
    "## Contoh Pembanding/Relasi\n",
    "a, b = 5, 10\n",
    "\n",
    "print(a, '>', b, '=', a > b)\n",
    "print(a, '<', b, '=', a < b)\n",
    "print(a, '==', b, '=', a == b)\n",
    "print(a, '!=', b, '=', a != b)\n",
    "print(a, '>=', b, '=', a >= b)\n",
    "print(a, '<=', b, '=', a <= b)  # Perbaikan di sini"
   ]
  },
  {
   "cell_type": "code",
   "execution_count": 87,
   "id": "313d208d-0ed2-4cf7-86dd-2a172247b1d1",
   "metadata": {},
   "outputs": [
    {
     "name": "stdout",
     "output_type": "stream",
     "text": [
      "a = 10 ->  10\n",
      "a += 5 ->  15\n",
      "a -= 3 ->  12\n",
      "a *= 6 ->  72\n",
      "a /= 8 ->  9.0\n",
      "a %= 9 ->  0\n",
      "a //= 6 ->  0\n",
      "a **= 1 ->  0\n"
     ]
    }
   ],
   "source": [
    "## Contoh Penugasan\n",
    "# penugasan pertama\n",
    "a = 10\n",
    "print('a = 10 -> ', a)\n",
    "\n",
    "a += 5\n",
    "print('a += 5 -> ', a)\n",
    "\n",
    "a -= 3\n",
    "print('a -= 3 -> ', a)\n",
    "\n",
    "a *= 6\n",
    "print('a *= 6 -> ', a)\n",
    "\n",
    "a /= 8\n",
    "print('a /= 8 -> ', a)\n",
    "\n",
    "# karena a jadi float, kita ubah lagi menjadi integer\n",
    "a = int(a)\n",
    "\n",
    "a %= 9\n",
    "print('a %= 9 -> ', a)\n",
    "\n",
    "a //= 6\n",
    "print('a //= 6 -> ', a)\n",
    "\n",
    "a **= 1\n",
    "print('a **= 1 -> ', a)"
   ]
  },
  {
   "cell_type": "markdown",
   "id": "14590536-c836-4c47-a9ad-404aafbfbddf",
   "metadata": {},
   "source": [
    "### 3. Percabangan If Else"
   ]
  },
  {
   "cell_type": "markdown",
   "id": "df7000a1-cf9b-4ed2-8a07-f74cd69d90ed",
   "metadata": {},
   "source": [
    "#### Pengertian"
   ]
  },
  {
   "cell_type": "markdown",
   "id": "834b1227-6d13-4d2e-ab14-5c5d0b50e9ac",
   "metadata": {},
   "source": [
    "Percabangan if dan else adalah struktur kontrol dalam Python yang memungkinkan program untuk membuat keputusan berdasarkan kondisi tertentu. Jika kondisi pada pernyataan if bernilai True, maka blok kode setelah if akan dieksekusi. Jika kondisi tersebut bernilai False, maka blok kode dalam else yang akan dijalankan."
   ]
  },
  {
   "cell_type": "markdown",
   "id": "aecc486e-639a-4423-8ac3-3de8295fb72f",
   "metadata": {},
   "source": [
    "#### Struktur Dasar"
   ]
  },
  {
   "cell_type": "markdown",
   "id": "9b9d0a5c-ff77-4ede-a08d-cdd5fb56ff6f",
   "metadata": {},
   "source": [
    "if kondisi:\n",
    "    # kode yang dijalankan jika kondisi True\n",
    "elif kondisi:\n",
    "    # kode yang dijalankan jika kondisi if sebelumnya bernilai False\n",
    "else:\n",
    "    # kode yang dijalankan jika semua kondisi sebelumnya bernilai False"
   ]
  },
  {
   "cell_type": "code",
   "execution_count": 2,
   "id": "0acaad64-9e73-4190-a037-919df7618e8b",
   "metadata": {},
   "outputs": [
    {
     "name": "stdout",
     "output_type": "stream",
     "text": [
      "f sama dengan 10\n"
     ]
    }
   ],
   "source": [
    "f = 10\n",
    "\n",
    "# Program pertama-tama akan mengecek apakah f lebih besardari 15.\n",
    "if f > 15 :\n",
    "    print(\"f lebih besar 15\")\n",
    "# jika kondisi tersebut False, maka elif akan memeriksa apakah f sama dengan 10.\n",
    "elif f == 10 :\n",
    "    print(\"f sama dengan 10\")\n",
    "# Karena f = 10, maka output yang dihasilkan adalah \"f sama dengan 10\".\n",
    "else :\n",
    "    print(\"f lebih kecil dari 10\")"
   ]
  },
  {
   "cell_type": "markdown",
   "id": "c68b2e77-04cf-4c05-867a-ad32bcd052a4",
   "metadata": {},
   "source": [
    "#### Percabangan Tertanam (Nested If)"
   ]
  },
  {
   "cell_type": "markdown",
   "id": "c0ef1056-abd5-44ea-97f3-55d0f7d6370c",
   "metadata": {},
   "source": [
    "if dapat juga digunakan di dalam if lainnya, yang dikenal dengan percabangan tertanam (nested if).\n",
    "Contohnya:"
   ]
  },
  {
   "cell_type": "code",
   "execution_count": 7,
   "id": "d4234c2b-557b-47ea-8a5f-0112a2237a63",
   "metadata": {},
   "outputs": [
    {
     "name": "stdout",
     "output_type": "stream",
     "text": [
      "y lebih besar dari 5 tetapi lebih kecil dari 10\n"
     ]
    }
   ],
   "source": [
    "y = 9\n",
    "\n",
    "# Program pertama-tama memeriksa apakah y lebih besar dari 5.\n",
    "if y > 5:\n",
    "# Kemudian, di dalam blok if pertama, ada lagi pengecekan apakah y lebih kecil dari 10.\n",
    "    if y < 10:\n",
    "        print(\"y lebih besar dari 5 tetapi lebih kecil dari 10\")\n",
    "# Karena y = 9, maka program akan menampilkan output \"y lebih besar dari 5 tetapi lebih kecil dari 10\".\n",
    "    else:\n",
    "        print(\"y lebih besar atau sama dengan 10\")\n",
    "else:\n",
    "    print(\"y lebih kecil atau sama dengan 5\")"
   ]
  },
  {
   "cell_type": "markdown",
   "id": "4eda6f5a-5bf9-492f-b7cd-ba72d3e3f146",
   "metadata": {},
   "source": [
    "#### Penjelasan Percabangan If Else"
   ]
  },
  {
   "cell_type": "markdown",
   "id": "7c49b167-a45b-4847-8b36-74244811ec01",
   "metadata": {},
   "source": [
    "1. if\n",
    "- Digunakan untuk memeriksa apakah kondisi bernilai True dan menjalankan kode yang sesuai jika kondisi tersebut benar.\n",
    "2. elif\n",
    "- Digunakan untuk memeriksa kondisi lain setelah kondisi if pertama gagal (bernilai False).\n",
    "3. else\n",
    "- Digunakan sebagai kondisi default jika semua kondisi sebelumnya bernilai False.\n",
    "4. Nested if\n",
    "- Memungkinkan penggunaan if di dalam if lainnya untuk pengecekan kondisi lbih lanjut. bih lanjut."
   ]
  },
  {
   "cell_type": "markdown",
   "id": "bf38f783-55fc-47dd-8de3-22691b99fc13",
   "metadata": {},
   "source": [
    "### 4. Dasar Perulangan (Looping)"
   ]
  },
  {
   "cell_type": "markdown",
   "id": "1650e474-aa3b-4f76-8fbf-64f13bf80df9",
   "metadata": {},
   "source": [
    "Perulangan (Looping) adalah teknik dalam pemrograman yang memungkinkan eksekusi berulang terhadap sebuah blok kode sesuai dengan kondisi tertentu. Di Python, terdapat dua jenis perulangan yang umum digunakan, yaitu for dan while."
   ]
  },
  {
   "cell_type": "markdown",
   "id": "c02ff216-3814-4b25-af33-5a1a2dd2e8bb",
   "metadata": {},
   "source": [
    "#### 1. Perulangan For"
   ]
  },
  {
   "cell_type": "code",
   "execution_count": null,
   "id": "f0930872-0d1e-4318-adbc-b5489d3ff62b",
   "metadata": {},
   "outputs": [],
   "source": [
    "Perulangan for digunakan untuk mengulang aksi dalam sebuah urutan (seperti daftar, string, atau rentang angka).\n",
    "\n",
    "Struktur dasar:\n",
    "for item in urutan:\n",
    "    # kode yang dijalankan\n",
    "dijalankan"
   ]
  },
  {
   "cell_type": "code",
   "execution_count": 17,
   "id": "953ec736-14b9-4e49-a291-5fd3c4c9ad0d",
   "metadata": {},
   "outputs": [
    {
     "name": "stdout",
     "output_type": "stream",
     "text": [
      "0\n",
      "1\n",
      "2\n",
      "3\n",
      "4\n"
     ]
    }
   ],
   "source": [
    "for i in range(5):  # range(5) menghasilkan angka mulai dari 0 hingga 4.\n",
    "    print(i) # Program ini akan mencetak angka 0 hingga 4 satu per satu."
   ]
  },
  {
   "cell_type": "markdown",
   "id": "a4a36b94-4fbc-4ce3-ab44-04a35b963602",
   "metadata": {},
   "source": [
    "#### 2. Perulangan While"
   ]
  },
  {
   "cell_type": "markdown",
   "id": "18502a9f-9ea6-47a0-b0ad-39fd32f56484",
   "metadata": {},
   "source": [
    "Perulangan while digunakan untuk mengulang aksi selama kondisi tertentu bernilai True."
   ]
  },
  {
   "cell_type": "code",
   "execution_count": 2,
   "id": "2398ce78-74ad-45ac-a665-02bbc5395a37",
   "metadata": {},
   "outputs": [
    {
     "name": "stdout",
     "output_type": "stream",
     "text": [
      "0\n",
      "1\n",
      "2\n",
      "3\n",
      "4\n",
      "5\n",
      "6\n",
      "7\n"
     ]
    }
   ],
   "source": [
    "i = 0\n",
    "while i < 8: # Selama nilai i kurang dari 5, kondisi dalam while bernilai True, sehingga blok kode di dalamnya dijalankan.\n",
    "    print(i)\n",
    "    i += 1 # Nilai i akan bertambah 1 setiap kali perulangan."
   ]
  },
  {
   "cell_type": "markdown",
   "id": "d4cb5e8f-5a40-4384-9bb9-c87adc60e377",
   "metadata": {},
   "source": [
    "#### 3. Perulangan dengan Else"
   ]
  },
  {
   "cell_type": "markdown",
   "id": "ccb19b9b-5a55-4a12-a388-cc4852df62c9",
   "metadata": {},
   "source": [
    "Baik perulangan for maupun while dapat dilengkapi dengan bagian else. Bagian else ini akan dieksekusi jika perulangan selesai tanpa adanya perintah break. Contohnya:"
   ]
  },
  {
   "cell_type": "code",
   "execution_count": 4,
   "id": "db14d9da-bf09-426e-a94e-ab221363e4b1",
   "metadata": {},
   "outputs": [
    {
     "name": "stdout",
     "output_type": "stream",
     "text": [
      "0\n",
      "1\n",
      "2\n",
      "3\n",
      "4\n",
      "5\n",
      "6\n",
      "7\n",
      "8\n",
      "9\n",
      "10\n",
      "11\n",
      "12\n",
      "13\n",
      "14\n",
      "Perulangan selesai\n"
     ]
    }
   ],
   "source": [
    "for i in range(15):\n",
    "    print(i)\n",
    "else:\n",
    "    print(\"Perulangan selesai\") # Setelah perulangan selesai, Python akan mencetak \"Perulangan selesai\"."
   ]
  },
  {
   "cell_type": "markdown",
   "id": "19fb0c3d-6b9b-455e-90c2-e3a55413d9f8",
   "metadata": {},
   "source": [
    "#### 4. Menghentikan Perulangan dengan Break"
   ]
  },
  {
   "cell_type": "markdown",
   "id": "69c30acf-6577-427a-b76d-a2ab8d3d9f71",
   "metadata": {},
   "source": [
    "Perintah break digunakan untuk menghentikan perulangan sebelum kondisi selesai. Contohnya:"
   ]
  },
  {
   "cell_type": "code",
   "execution_count": 32,
   "id": "6b6c6fd8-8766-4487-9ebd-b601175e89b1",
   "metadata": {},
   "outputs": [
    {
     "name": "stdout",
     "output_type": "stream",
     "text": [
      "0\n",
      "1\n",
      "2\n"
     ]
    }
   ],
   "source": [
    "for i in range(5):\n",
    "    if i == 3:\n",
    "        break  # Program akan berhenti ketika nilai i mencapai 3.\n",
    "    print(i)"
   ]
  },
  {
   "cell_type": "markdown",
   "id": "a5370907-4bdb-4a05-b293-f9ba0201a216",
   "metadata": {},
   "source": [
    "#### 5. Melanjutkan Perulangan dengan Continue"
   ]
  },
  {
   "cell_type": "markdown",
   "id": "21477aa2-2d6d-4551-adc9-f2ea3d3f76b5",
   "metadata": {},
   "source": [
    "Perintah continue digunakan untuk melewatkan satu iterasi dalam perulangan dan langsung melanjutkan ke iterasi berikutnya.. Contohnya:"
   ]
  },
  {
   "cell_type": "code",
   "execution_count": 38,
   "id": "d34f27c4-4227-467a-baab-2b78dd759231",
   "metadata": {},
   "outputs": [
    {
     "name": "stdout",
     "output_type": "stream",
     "text": [
      "0\n",
      "1\n",
      "2\n",
      "4\n"
     ]
    }
   ],
   "source": [
    "for i in range(5):\n",
    "    if i == 3:\n",
    "        continue  # Ketika i bernilai 3, perintah continue akan melewati pencetakan nilai 3 dan langsung melanjutkan ke iterasi berikutnya.\n",
    "    print(i)"
   ]
  },
  {
   "cell_type": "markdown",
   "id": "c018df33-2d94-464f-8386-c89e66b841a0",
   "metadata": {},
   "source": [
    "### Kesimpulan"
   ]
  },
  {
   "cell_type": "markdown",
   "id": "9369d293-da9e-45b4-bab1-69f70e54ddaf",
   "metadata": {},
   "source": [
    "- for: Digunakan untuk perulangan dengan jumlah iterasi yang sudah diketahui atau berbasis urutan.\n",
    "- while: Digunakan untuk perulangan yang bergantung pada kondisi tertentu yang bisa terus berulang selama kondisi tersebut True.\n",
    "- else: Menyediakan blok kode yang dieksekusi setelah perulangan selesai jika tidak dihentikan oleh break.\n",
    "- break: Menghentikan perulangan secara paksa.\n",
    "- continue: Melewatkan iterasi yang sedang berjalan dan melanjutkan ke iterasi berikutnya."
   ]
  }
 ],
 "metadata": {
  "kernelspec": {
   "display_name": "Python 3 (ipykernel)",
   "language": "python",
   "name": "python3"
  },
  "language_info": {
   "codemirror_mode": {
    "name": "ipython",
    "version": 3
   },
   "file_extension": ".py",
   "mimetype": "text/x-python",
   "name": "python",
   "nbconvert_exporter": "python",
   "pygments_lexer": "ipython3",
   "version": "3.12.7"
  }
 },
 "nbformat": 4,
 "nbformat_minor": 5
}
